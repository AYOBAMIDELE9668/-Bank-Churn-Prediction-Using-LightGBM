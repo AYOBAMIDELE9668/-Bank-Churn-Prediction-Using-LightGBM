{
 "cells": [
  {
   "cell_type": "code",
   "execution_count": 1,
   "id": "47349ccc",
   "metadata": {
    "_cell_guid": "b1076dfc-b9ad-4769-8c92-a6c4dae69d19",
    "_uuid": "8f2839f25d086af736a60e9eeb907d3b93b6e0e5",
    "execution": {
     "iopub.execute_input": "2024-01-26T07:15:35.406398Z",
     "iopub.status.busy": "2024-01-26T07:15:35.405468Z",
     "iopub.status.idle": "2024-01-26T07:15:38.504447Z",
     "shell.execute_reply": "2024-01-26T07:15:38.502907Z"
    },
    "papermill": {
     "duration": 3.109166,
     "end_time": "2024-01-26T07:15:38.506966",
     "exception": false,
     "start_time": "2024-01-26T07:15:35.397800",
     "status": "completed"
    },
    "tags": []
   },
   "outputs": [],
   "source": [
    "import numpy as np\n",
    "import pandas as pd\n",
    "import lightgbm as lgb\n",
    "from sklearn.model_selection import train_test_split\n",
    "from sklearn.metrics import roc_auc_score\n",
    "import matplotlib.pyplot as plt\n",
    "from sklearn.model_selection import StratifiedKFold\n",
    "from sklearn.feature_extraction.text import TfidfVectorizer\n",
    "from sklearn.decomposition import TruncatedSVD\n",
    "from sklearn.preprocessing import LabelEncoder\n",
    "import warnings\n",
    "warnings.filterwarnings(\"ignore\")"
   ]
  },
  {
   "cell_type": "markdown",
   "id": "ede793f8",
   "metadata": {
    "papermill": {
     "duration": 0.005775,
     "end_time": "2024-01-26T07:15:38.518789",
     "exception": false,
     "start_time": "2024-01-26T07:15:38.513014",
     "status": "completed"
    },
    "tags": []
   },
   "source": [
    "## Parameters"
   ]
  },
  {
   "cell_type": "code",
   "execution_count": 2,
   "id": "4c09d281",
   "metadata": {
    "execution": {
     "iopub.execute_input": "2024-01-26T07:15:38.531907Z",
     "iopub.status.busy": "2024-01-26T07:15:38.531568Z",
     "iopub.status.idle": "2024-01-26T07:15:38.536853Z",
     "shell.execute_reply": "2024-01-26T07:15:38.535559Z"
    },
    "papermill": {
     "duration": 0.014545,
     "end_time": "2024-01-26T07:15:38.539111",
     "exception": false,
     "start_time": "2024-01-26T07:15:38.524566",
     "status": "completed"
    },
    "tags": []
   },
   "outputs": [],
   "source": [
    "USE_DATA_LEAK='Y' ## Set to Y to exploit the data leak\n",
    "##\n",
    "RAND_VAL=44\n",
    "num_folds=7 ## Number of folds\n",
    "n_est=5000 ## Number of estimators"
   ]
  },
  {
   "cell_type": "markdown",
   "id": "9cccc555",
   "metadata": {
    "papermill": {
     "duration": 0.00603,
     "end_time": "2024-01-26T07:15:38.551237",
     "exception": false,
     "start_time": "2024-01-26T07:15:38.545207",
     "status": "completed"
    },
    "tags": []
   },
   "source": [
    "## Read Train and Test Files"
   ]
  },
  {
   "cell_type": "code",
   "execution_count": 3,
   "id": "2e31e4aa",
   "metadata": {
    "execution": {
     "iopub.execute_input": "2024-01-26T07:15:38.565186Z",
     "iopub.status.busy": "2024-01-26T07:15:38.564633Z",
     "iopub.status.idle": "2024-01-26T07:15:38.871749Z",
     "shell.execute_reply": "2024-01-26T07:15:38.870751Z"
    },
    "papermill": {
     "duration": 0.316509,
     "end_time": "2024-01-26T07:15:38.873722",
     "exception": false,
     "start_time": "2024-01-26T07:15:38.557213",
     "status": "completed"
    },
    "tags": []
   },
   "outputs": [],
   "source": [
    "df_train = pd.read_csv('/kaggle/input/playground-series-s4e1/train.csv')"
   ]
  },
  {
   "cell_type": "code",
   "execution_count": 4,
   "id": "fe3f3721",
   "metadata": {
    "execution": {
     "iopub.execute_input": "2024-01-26T07:15:38.886903Z",
     "iopub.status.busy": "2024-01-26T07:15:38.886557Z",
     "iopub.status.idle": "2024-01-26T07:15:39.098953Z",
     "shell.execute_reply": "2024-01-26T07:15:39.096705Z"
    },
    "papermill": {
     "duration": 0.221594,
     "end_time": "2024-01-26T07:15:39.101228",
     "exception": false,
     "start_time": "2024-01-26T07:15:38.879634",
     "status": "completed"
    },
    "tags": []
   },
   "outputs": [
    {
     "data": {
      "text/html": [
       "<div>\n",
       "<style scoped>\n",
       "    .dataframe tbody tr th:only-of-type {\n",
       "        vertical-align: middle;\n",
       "    }\n",
       "\n",
       "    .dataframe tbody tr th {\n",
       "        vertical-align: top;\n",
       "    }\n",
       "\n",
       "    .dataframe thead th {\n",
       "        text-align: right;\n",
       "    }\n",
       "</style>\n",
       "<table border=\"1\" class=\"dataframe\">\n",
       "  <thead>\n",
       "    <tr style=\"text-align: right;\">\n",
       "      <th></th>\n",
       "      <th>id</th>\n",
       "      <th>CustomerId</th>\n",
       "      <th>Surname</th>\n",
       "      <th>CreditScore</th>\n",
       "      <th>Geography</th>\n",
       "      <th>Gender</th>\n",
       "      <th>Age</th>\n",
       "      <th>Tenure</th>\n",
       "      <th>Balance</th>\n",
       "      <th>NumOfProducts</th>\n",
       "      <th>HasCrCard</th>\n",
       "      <th>IsActiveMember</th>\n",
       "      <th>EstimatedSalary</th>\n",
       "    </tr>\n",
       "  </thead>\n",
       "  <tbody>\n",
       "    <tr>\n",
       "      <th>0</th>\n",
       "      <td>165034</td>\n",
       "      <td>15773898</td>\n",
       "      <td>Lucchese</td>\n",
       "      <td>586</td>\n",
       "      <td>France</td>\n",
       "      <td>Female</td>\n",
       "      <td>23.0</td>\n",
       "      <td>2</td>\n",
       "      <td>0.00</td>\n",
       "      <td>2</td>\n",
       "      <td>0.0</td>\n",
       "      <td>1.0</td>\n",
       "      <td>160976.75</td>\n",
       "    </tr>\n",
       "    <tr>\n",
       "      <th>1</th>\n",
       "      <td>165035</td>\n",
       "      <td>15782418</td>\n",
       "      <td>Nott</td>\n",
       "      <td>683</td>\n",
       "      <td>France</td>\n",
       "      <td>Female</td>\n",
       "      <td>46.0</td>\n",
       "      <td>2</td>\n",
       "      <td>0.00</td>\n",
       "      <td>1</td>\n",
       "      <td>1.0</td>\n",
       "      <td>0.0</td>\n",
       "      <td>72549.27</td>\n",
       "    </tr>\n",
       "    <tr>\n",
       "      <th>2</th>\n",
       "      <td>165036</td>\n",
       "      <td>15807120</td>\n",
       "      <td>K?</td>\n",
       "      <td>656</td>\n",
       "      <td>France</td>\n",
       "      <td>Female</td>\n",
       "      <td>34.0</td>\n",
       "      <td>7</td>\n",
       "      <td>0.00</td>\n",
       "      <td>2</td>\n",
       "      <td>1.0</td>\n",
       "      <td>0.0</td>\n",
       "      <td>138882.09</td>\n",
       "    </tr>\n",
       "    <tr>\n",
       "      <th>3</th>\n",
       "      <td>165037</td>\n",
       "      <td>15808905</td>\n",
       "      <td>O'Donnell</td>\n",
       "      <td>681</td>\n",
       "      <td>France</td>\n",
       "      <td>Male</td>\n",
       "      <td>36.0</td>\n",
       "      <td>8</td>\n",
       "      <td>0.00</td>\n",
       "      <td>1</td>\n",
       "      <td>1.0</td>\n",
       "      <td>0.0</td>\n",
       "      <td>113931.57</td>\n",
       "    </tr>\n",
       "    <tr>\n",
       "      <th>4</th>\n",
       "      <td>165038</td>\n",
       "      <td>15607314</td>\n",
       "      <td>Higgins</td>\n",
       "      <td>752</td>\n",
       "      <td>Germany</td>\n",
       "      <td>Male</td>\n",
       "      <td>38.0</td>\n",
       "      <td>10</td>\n",
       "      <td>121263.62</td>\n",
       "      <td>1</td>\n",
       "      <td>1.0</td>\n",
       "      <td>0.0</td>\n",
       "      <td>139431.00</td>\n",
       "    </tr>\n",
       "  </tbody>\n",
       "</table>\n",
       "</div>"
      ],
      "text/plain": [
       "       id  CustomerId    Surname  CreditScore Geography  Gender   Age  Tenure  \\\n",
       "0  165034    15773898   Lucchese          586    France  Female  23.0       2   \n",
       "1  165035    15782418       Nott          683    France  Female  46.0       2   \n",
       "2  165036    15807120         K?          656    France  Female  34.0       7   \n",
       "3  165037    15808905  O'Donnell          681    France    Male  36.0       8   \n",
       "4  165038    15607314    Higgins          752   Germany    Male  38.0      10   \n",
       "\n",
       "     Balance  NumOfProducts  HasCrCard  IsActiveMember  EstimatedSalary  \n",
       "0       0.00              2        0.0             1.0        160976.75  \n",
       "1       0.00              1        1.0             0.0         72549.27  \n",
       "2       0.00              2        1.0             0.0        138882.09  \n",
       "3       0.00              1        1.0             0.0        113931.57  \n",
       "4  121263.62              1        1.0             0.0        139431.00  "
      ]
     },
     "execution_count": 4,
     "metadata": {},
     "output_type": "execute_result"
    }
   ],
   "source": [
    "df_test = pd.read_csv('/kaggle/input/playground-series-s4e1/test.csv')\n",
    "df_test_ov = df_test.copy()\n",
    "df_test.head()"
   ]
  },
  {
   "cell_type": "markdown",
   "id": "a69ef318",
   "metadata": {
    "papermill": {
     "duration": 0.006105,
     "end_time": "2024-01-26T07:15:39.113788",
     "exception": false,
     "start_time": "2024-01-26T07:15:39.107683",
     "status": "completed"
    },
    "tags": []
   },
   "source": [
    "## Scaling"
   ]
  },
  {
   "cell_type": "code",
   "execution_count": 5,
   "id": "d95166fd",
   "metadata": {
    "execution": {
     "iopub.execute_input": "2024-01-26T07:15:39.128314Z",
     "iopub.status.busy": "2024-01-26T07:15:39.127929Z",
     "iopub.status.idle": "2024-01-26T07:15:39.149260Z",
     "shell.execute_reply": "2024-01-26T07:15:39.147591Z"
    },
    "papermill": {
     "duration": 0.031565,
     "end_time": "2024-01-26T07:15:39.151647",
     "exception": false,
     "start_time": "2024-01-26T07:15:39.120082",
     "status": "completed"
    },
    "tags": []
   },
   "outputs": [],
   "source": [
    "scale_cols = ['Age','CreditScore', 'Balance','EstimatedSalary']\n",
    "###\n",
    "for c in scale_cols:\n",
    "    min_value = df_train[c].min()\n",
    "    max_value = df_train[c].max()\n",
    "    df_train[c+\"_scaled\"] = (df_train[c] - min_value) / (max_value - min_value)\n",
    "    df_test[c+\"_scaled\"] = (df_test[c] - min_value) / (max_value - min_value)"
   ]
  },
  {
   "cell_type": "markdown",
   "id": "efcb2812",
   "metadata": {
    "papermill": {
     "duration": 0.005644,
     "end_time": "2024-01-26T07:15:39.163520",
     "exception": false,
     "start_time": "2024-01-26T07:15:39.157876",
     "status": "completed"
    },
    "tags": []
   },
   "source": [
    "## TF-IDF Vectorization for Surname"
   ]
  },
  {
   "cell_type": "code",
   "execution_count": 6,
   "id": "3a88661d",
   "metadata": {
    "execution": {
     "iopub.execute_input": "2024-01-26T07:15:39.177165Z",
     "iopub.status.busy": "2024-01-26T07:15:39.176805Z",
     "iopub.status.idle": "2024-01-26T07:15:39.450911Z",
     "shell.execute_reply": "2024-01-26T07:15:39.449857Z"
    },
    "papermill": {
     "duration": 0.28441,
     "end_time": "2024-01-26T07:15:39.453745",
     "exception": false,
     "start_time": "2024-01-26T07:15:39.169335",
     "status": "completed"
    },
    "tags": []
   },
   "outputs": [],
   "source": [
    "df_train['Sur_Geo_Gend_Sal'] = df_train['CustomerId'].astype('str')+df_train['Surname']+df_train['Geography']+df_train['Gender']+np.round(df_train.EstimatedSalary).astype('str')\n",
    "df_test['Sur_Geo_Gend_Sal'] = df_test['CustomerId'].astype('str')+df_test['Surname']+df_test['Geography']+df_test['Gender']+np.round(df_test.EstimatedSalary).astype('str')"
   ]
  },
  {
   "cell_type": "code",
   "execution_count": 7,
   "id": "2cbfd96c",
   "metadata": {
    "execution": {
     "iopub.execute_input": "2024-01-26T07:15:39.467698Z",
     "iopub.status.busy": "2024-01-26T07:15:39.467266Z",
     "iopub.status.idle": "2024-01-26T07:15:39.475708Z",
     "shell.execute_reply": "2024-01-26T07:15:39.474625Z"
    },
    "papermill": {
     "duration": 0.018098,
     "end_time": "2024-01-26T07:15:39.478118",
     "exception": false,
     "start_time": "2024-01-26T07:15:39.460020",
     "status": "completed"
    },
    "tags": []
   },
   "outputs": [],
   "source": [
    "def get_vectors(df_train,df_test,col_name):\n",
    "    vectorizer = TfidfVectorizer(max_features=1000)\n",
    "    vectors_train = vectorizer.fit_transform(df_train[col_name])\n",
    "    vectors_test = vectorizer.transform(df_test[col_name])\n",
    "    #\n",
    "    svd = TruncatedSVD(3)\n",
    "    x_pca_train = svd.fit_transform(vectors_train)\n",
    "    x_pca_test = svd.transform(vectors_test)\n",
    "\n",
    "    # Convert to DataFrames\n",
    "    tfidf_df_train = pd.DataFrame(x_pca_train)\n",
    "    tfidf_df_test = pd.DataFrame(x_pca_test)\n",
    "\n",
    "    # Naming columns in the new DataFrames\n",
    "    cols = [(col_name + \"_tfidf_\" + str(f)) for f in tfidf_df_train.columns.to_list()]\n",
    "    tfidf_df_train.columns = cols\n",
    "    tfidf_df_test.columns = cols\n",
    "\n",
    "    # Reset the index of the DataFrames before concatenation\n",
    "    df_train = df_train.reset_index(drop=True)\n",
    "    df_test = df_test.reset_index(drop=True)\n",
    "\n",
    "    # Concatenate transformed features with original data\n",
    "    df_train = pd.concat([df_train, tfidf_df_train], axis=\"columns\")\n",
    "    df_test = pd.concat([df_test, tfidf_df_test], axis=\"columns\")\n",
    "    return df_train,df_test"
   ]
  },
  {
   "cell_type": "code",
   "execution_count": 8,
   "id": "bc167b49",
   "metadata": {
    "execution": {
     "iopub.execute_input": "2024-01-26T07:15:39.492968Z",
     "iopub.status.busy": "2024-01-26T07:15:39.492599Z",
     "iopub.status.idle": "2024-01-26T07:15:42.887753Z",
     "shell.execute_reply": "2024-01-26T07:15:42.886893Z"
    },
    "papermill": {
     "duration": 3.404845,
     "end_time": "2024-01-26T07:15:42.889894",
     "exception": false,
     "start_time": "2024-01-26T07:15:39.485049",
     "status": "completed"
    },
    "tags": []
   },
   "outputs": [],
   "source": [
    "df_train,df_test = get_vectors(df_train,df_test,'Surname')\n",
    "df_train,df_test = get_vectors(df_train,df_test,'Sur_Geo_Gend_Sal')"
   ]
  },
  {
   "cell_type": "markdown",
   "id": "f0e7ec20",
   "metadata": {
    "papermill": {
     "duration": 0.005893,
     "end_time": "2024-01-26T07:15:42.901975",
     "exception": false,
     "start_time": "2024-01-26T07:15:42.896082",
     "status": "completed"
    },
    "tags": []
   },
   "source": [
    "## Feature Engineering"
   ]
  },
  {
   "cell_type": "code",
   "execution_count": 9,
   "id": "77084cbf",
   "metadata": {
    "execution": {
     "iopub.execute_input": "2024-01-26T07:15:42.916793Z",
     "iopub.status.busy": "2024-01-26T07:15:42.915835Z",
     "iopub.status.idle": "2024-01-26T07:15:42.923409Z",
     "shell.execute_reply": "2024-01-26T07:15:42.921871Z"
    },
    "papermill": {
     "duration": 0.017086,
     "end_time": "2024-01-26T07:15:42.925237",
     "exception": false,
     "start_time": "2024-01-26T07:15:42.908151",
     "status": "completed"
    },
    "tags": []
   },
   "outputs": [],
   "source": [
    "def getFeats(df):\n",
    "    \n",
    "    df['IsSenior'] = df['Age'].apply(lambda x: 1 if x >= 60 else 0)\n",
    "    df['IsActive_by_CreditCard'] = df['HasCrCard'] * df['IsActiveMember']\n",
    "    df['Products_Per_Tenure'] =  df['Tenure'] / df['NumOfProducts']\n",
    "    df['len_SurName'] = df['Surname'].apply(lambda x: len(x))\n",
    "    df['AgeCat'] = np.round(df.Age/20).astype('int').astype('category')\n",
    "    \n",
    "    cat_cols = ['Geography', 'Gender', 'NumOfProducts','AgeCat']\n",
    "    df=pd.get_dummies(df,columns=cat_cols)\n",
    "    return df"
   ]
  },
  {
   "cell_type": "code",
   "execution_count": 10,
   "id": "745b8b0e",
   "metadata": {
    "execution": {
     "iopub.execute_input": "2024-01-26T07:15:42.939864Z",
     "iopub.status.busy": "2024-01-26T07:15:42.939483Z",
     "iopub.status.idle": "2024-01-26T07:15:43.265334Z",
     "shell.execute_reply": "2024-01-26T07:15:43.264259Z"
    },
    "papermill": {
     "duration": 0.335485,
     "end_time": "2024-01-26T07:15:43.267400",
     "exception": false,
     "start_time": "2024-01-26T07:15:42.931915",
     "status": "completed"
    },
    "tags": []
   },
   "outputs": [
    {
     "name": "stdout",
     "output_type": "stream",
     "text": [
      "Index(['Tenure', 'HasCrCard', 'IsActiveMember', 'Age_scaled',\n",
      "       'CreditScore_scaled', 'Balance_scaled', 'EstimatedSalary_scaled',\n",
      "       'Surname_tfidf_0', 'Surname_tfidf_1', 'Surname_tfidf_2',\n",
      "       'Sur_Geo_Gend_Sal_tfidf_0', 'Sur_Geo_Gend_Sal_tfidf_1',\n",
      "       'Sur_Geo_Gend_Sal_tfidf_2', 'IsSenior', 'IsActive_by_CreditCard',\n",
      "       'Products_Per_Tenure', 'len_SurName', 'Geography_France',\n",
      "       'Geography_Germany', 'Geography_Spain', 'Gender_Female', 'Gender_Male',\n",
      "       'NumOfProducts_1', 'NumOfProducts_2', 'NumOfProducts_3',\n",
      "       'NumOfProducts_4', 'AgeCat_1', 'AgeCat_2', 'AgeCat_3', 'AgeCat_4',\n",
      "       'AgeCat_5'],\n",
      "      dtype='object')\n"
     ]
    },
    {
     "data": {
      "text/html": [
       "<div>\n",
       "<style scoped>\n",
       "    .dataframe tbody tr th:only-of-type {\n",
       "        vertical-align: middle;\n",
       "    }\n",
       "\n",
       "    .dataframe tbody tr th {\n",
       "        vertical-align: top;\n",
       "    }\n",
       "\n",
       "    .dataframe thead th {\n",
       "        text-align: right;\n",
       "    }\n",
       "</style>\n",
       "<table border=\"1\" class=\"dataframe\">\n",
       "  <thead>\n",
       "    <tr style=\"text-align: right;\">\n",
       "      <th></th>\n",
       "      <th>id</th>\n",
       "      <th>CustomerId</th>\n",
       "      <th>Surname</th>\n",
       "      <th>CreditScore</th>\n",
       "      <th>Age</th>\n",
       "      <th>Tenure</th>\n",
       "      <th>Balance</th>\n",
       "      <th>HasCrCard</th>\n",
       "      <th>IsActiveMember</th>\n",
       "      <th>EstimatedSalary</th>\n",
       "      <th>...</th>\n",
       "      <th>Gender_Male</th>\n",
       "      <th>NumOfProducts_1</th>\n",
       "      <th>NumOfProducts_2</th>\n",
       "      <th>NumOfProducts_3</th>\n",
       "      <th>NumOfProducts_4</th>\n",
       "      <th>AgeCat_1</th>\n",
       "      <th>AgeCat_2</th>\n",
       "      <th>AgeCat_3</th>\n",
       "      <th>AgeCat_4</th>\n",
       "      <th>AgeCat_5</th>\n",
       "    </tr>\n",
       "  </thead>\n",
       "  <tbody>\n",
       "    <tr>\n",
       "      <th>0</th>\n",
       "      <td>0</td>\n",
       "      <td>15674932</td>\n",
       "      <td>Okwudilichukwu</td>\n",
       "      <td>668</td>\n",
       "      <td>33.0</td>\n",
       "      <td>3</td>\n",
       "      <td>0.00</td>\n",
       "      <td>1.0</td>\n",
       "      <td>0.0</td>\n",
       "      <td>181449.97</td>\n",
       "      <td>...</td>\n",
       "      <td>True</td>\n",
       "      <td>False</td>\n",
       "      <td>True</td>\n",
       "      <td>False</td>\n",
       "      <td>False</td>\n",
       "      <td>False</td>\n",
       "      <td>True</td>\n",
       "      <td>False</td>\n",
       "      <td>False</td>\n",
       "      <td>False</td>\n",
       "    </tr>\n",
       "    <tr>\n",
       "      <th>1</th>\n",
       "      <td>1</td>\n",
       "      <td>15749177</td>\n",
       "      <td>Okwudiliolisa</td>\n",
       "      <td>627</td>\n",
       "      <td>33.0</td>\n",
       "      <td>1</td>\n",
       "      <td>0.00</td>\n",
       "      <td>1.0</td>\n",
       "      <td>1.0</td>\n",
       "      <td>49503.50</td>\n",
       "      <td>...</td>\n",
       "      <td>True</td>\n",
       "      <td>False</td>\n",
       "      <td>True</td>\n",
       "      <td>False</td>\n",
       "      <td>False</td>\n",
       "      <td>False</td>\n",
       "      <td>True</td>\n",
       "      <td>False</td>\n",
       "      <td>False</td>\n",
       "      <td>False</td>\n",
       "    </tr>\n",
       "    <tr>\n",
       "      <th>2</th>\n",
       "      <td>2</td>\n",
       "      <td>15694510</td>\n",
       "      <td>Hsueh</td>\n",
       "      <td>678</td>\n",
       "      <td>40.0</td>\n",
       "      <td>10</td>\n",
       "      <td>0.00</td>\n",
       "      <td>1.0</td>\n",
       "      <td>0.0</td>\n",
       "      <td>184866.69</td>\n",
       "      <td>...</td>\n",
       "      <td>True</td>\n",
       "      <td>False</td>\n",
       "      <td>True</td>\n",
       "      <td>False</td>\n",
       "      <td>False</td>\n",
       "      <td>False</td>\n",
       "      <td>True</td>\n",
       "      <td>False</td>\n",
       "      <td>False</td>\n",
       "      <td>False</td>\n",
       "    </tr>\n",
       "    <tr>\n",
       "      <th>3</th>\n",
       "      <td>3</td>\n",
       "      <td>15741417</td>\n",
       "      <td>Kao</td>\n",
       "      <td>581</td>\n",
       "      <td>34.0</td>\n",
       "      <td>2</td>\n",
       "      <td>148882.54</td>\n",
       "      <td>1.0</td>\n",
       "      <td>1.0</td>\n",
       "      <td>84560.88</td>\n",
       "      <td>...</td>\n",
       "      <td>True</td>\n",
       "      <td>True</td>\n",
       "      <td>False</td>\n",
       "      <td>False</td>\n",
       "      <td>False</td>\n",
       "      <td>False</td>\n",
       "      <td>True</td>\n",
       "      <td>False</td>\n",
       "      <td>False</td>\n",
       "      <td>False</td>\n",
       "    </tr>\n",
       "    <tr>\n",
       "      <th>4</th>\n",
       "      <td>4</td>\n",
       "      <td>15766172</td>\n",
       "      <td>Chiemenam</td>\n",
       "      <td>716</td>\n",
       "      <td>33.0</td>\n",
       "      <td>5</td>\n",
       "      <td>0.00</td>\n",
       "      <td>1.0</td>\n",
       "      <td>1.0</td>\n",
       "      <td>15068.83</td>\n",
       "      <td>...</td>\n",
       "      <td>True</td>\n",
       "      <td>False</td>\n",
       "      <td>True</td>\n",
       "      <td>False</td>\n",
       "      <td>False</td>\n",
       "      <td>False</td>\n",
       "      <td>True</td>\n",
       "      <td>False</td>\n",
       "      <td>False</td>\n",
       "      <td>False</td>\n",
       "    </tr>\n",
       "  </tbody>\n",
       "</table>\n",
       "<p>5 rows × 40 columns</p>\n",
       "</div>"
      ],
      "text/plain": [
       "   id  CustomerId         Surname  CreditScore   Age  Tenure    Balance  \\\n",
       "0   0    15674932  Okwudilichukwu          668  33.0       3       0.00   \n",
       "1   1    15749177   Okwudiliolisa          627  33.0       1       0.00   \n",
       "2   2    15694510           Hsueh          678  40.0      10       0.00   \n",
       "3   3    15741417             Kao          581  34.0       2  148882.54   \n",
       "4   4    15766172       Chiemenam          716  33.0       5       0.00   \n",
       "\n",
       "   HasCrCard  IsActiveMember  EstimatedSalary  ...  Gender_Male  \\\n",
       "0        1.0             0.0        181449.97  ...         True   \n",
       "1        1.0             1.0         49503.50  ...         True   \n",
       "2        1.0             0.0        184866.69  ...         True   \n",
       "3        1.0             1.0         84560.88  ...         True   \n",
       "4        1.0             1.0         15068.83  ...         True   \n",
       "\n",
       "   NumOfProducts_1  NumOfProducts_2  NumOfProducts_3  NumOfProducts_4  \\\n",
       "0            False             True            False            False   \n",
       "1            False             True            False            False   \n",
       "2            False             True            False            False   \n",
       "3             True            False            False            False   \n",
       "4            False             True            False            False   \n",
       "\n",
       "  AgeCat_1  AgeCat_2  AgeCat_3  AgeCat_4  AgeCat_5  \n",
       "0    False      True     False     False     False  \n",
       "1    False      True     False     False     False  \n",
       "2    False      True     False     False     False  \n",
       "3    False      True     False     False     False  \n",
       "4    False      True     False     False     False  \n",
       "\n",
       "[5 rows x 40 columns]"
      ]
     },
     "execution_count": 10,
     "metadata": {},
     "output_type": "execute_result"
    }
   ],
   "source": [
    "df_train = getFeats(df_train)\n",
    "df_test = getFeats(df_test)\n",
    "##\n",
    "feat_cols=df_train.columns.drop(['id', 'CustomerId', 'Surname','Exited','Sur_Geo_Gend_Sal'])\n",
    "feat_cols=feat_cols.drop(scale_cols)\n",
    "\n",
    "print(feat_cols)\n",
    "df_train.head()"
   ]
  },
  {
   "cell_type": "code",
   "execution_count": 11,
   "id": "d4819fc8",
   "metadata": {
    "execution": {
     "iopub.execute_input": "2024-01-26T07:15:43.282314Z",
     "iopub.status.busy": "2024-01-26T07:15:43.281941Z",
     "iopub.status.idle": "2024-01-26T07:15:43.295849Z",
     "shell.execute_reply": "2024-01-26T07:15:43.294938Z"
    },
    "papermill": {
     "duration": 0.023789,
     "end_time": "2024-01-26T07:15:43.297739",
     "exception": false,
     "start_time": "2024-01-26T07:15:43.273950",
     "status": "completed"
    },
    "tags": []
   },
   "outputs": [],
   "source": [
    "X=df_train[feat_cols]\n",
    "y=df_train['Exited']"
   ]
  },
  {
   "cell_type": "markdown",
   "id": "814f9679",
   "metadata": {
    "papermill": {
     "duration": 0.006096,
     "end_time": "2024-01-26T07:15:43.310395",
     "exception": false,
     "start_time": "2024-01-26T07:15:43.304299",
     "status": "completed"
    },
    "tags": []
   },
   "source": [
    "## Parameters"
   ]
  },
  {
   "cell_type": "code",
   "execution_count": 12,
   "id": "3f2948fd",
   "metadata": {
    "execution": {
     "iopub.execute_input": "2024-01-26T07:15:43.324324Z",
     "iopub.status.busy": "2024-01-26T07:15:43.323968Z",
     "iopub.status.idle": "2024-01-26T07:15:43.328704Z",
     "shell.execute_reply": "2024-01-26T07:15:43.327774Z"
    },
    "papermill": {
     "duration": 0.013871,
     "end_time": "2024-01-26T07:15:43.330398",
     "exception": false,
     "start_time": "2024-01-26T07:15:43.316527",
     "status": "completed"
    },
    "tags": []
   },
   "outputs": [],
   "source": [
    "lgbParams = {'n_estimators': n_est,\n",
    "             'max_depth': 22, \n",
    "             'learning_rate': 0.025,\n",
    "             'min_child_weight': 3.43,\n",
    "             'min_child_samples': 216, \n",
    "             'subsample': 0.782,\n",
    "             'subsample_freq': 4, \n",
    "             'colsample_bytree': 0.29, \n",
    "             'num_leaves': 21}"
   ]
  },
  {
   "cell_type": "markdown",
   "id": "fa9f6a1d",
   "metadata": {
    "papermill": {
     "duration": 0.00588,
     "end_time": "2024-01-26T07:15:43.342792",
     "exception": false,
     "start_time": "2024-01-26T07:15:43.336912",
     "status": "completed"
    },
    "tags": []
   },
   "source": [
    "## Feature Importance"
   ]
  },
  {
   "cell_type": "code",
   "execution_count": 13,
   "id": "ef9f3fe9",
   "metadata": {
    "execution": {
     "iopub.execute_input": "2024-01-26T07:15:43.356820Z",
     "iopub.status.busy": "2024-01-26T07:15:43.356469Z",
     "iopub.status.idle": "2024-01-26T07:17:00.322443Z",
     "shell.execute_reply": "2024-01-26T07:17:00.321490Z"
    },
    "papermill": {
     "duration": 76.982947,
     "end_time": "2024-01-26T07:17:00.331843",
     "exception": false,
     "start_time": "2024-01-26T07:15:43.348896",
     "status": "completed"
    },
    "tags": []
   },
   "outputs": [
    {
     "data": {
      "image/png": "[encoded data removed]",
      "text/plain": [
       "<Figure size 1200x1000 with 1 Axes>"
      ]
     },
     "metadata": {},
     "output_type": "display_data"
    }
   ],
   "source": [
    "LGB=lgb.LGBMClassifier(**lgbParams)\n",
    "LGB.fit(X,y)\n",
    "lgb.plot_importance(LGB, importance_type=\"gain\", figsize=(12,10), max_num_features=12,\n",
    "                    title=\"LightGBM Feature Importance (Gain)\")\n",
    "plt.show()"
   ]
  },
  {
   "cell_type": "markdown",
   "id": "e18661ea",
   "metadata": {
    "papermill": {
     "duration": 0.00689,
     "end_time": "2024-01-26T07:17:00.346096",
     "exception": false,
     "start_time": "2024-01-26T07:17:00.339206",
     "status": "completed"
    },
    "tags": []
   },
   "source": [
    "## Training"
   ]
  },
  {
   "cell_type": "code",
   "execution_count": 14,
   "id": "434bc74d",
   "metadata": {
    "execution": {
     "iopub.execute_input": "2024-01-26T07:17:00.363236Z",
     "iopub.status.busy": "2024-01-26T07:17:00.362865Z",
     "iopub.status.idle": "2024-01-26T07:20:51.588084Z",
     "shell.execute_reply": "2024-01-26T07:20:51.586803Z"
    },
    "papermill": {
     "duration": 231.236608,
     "end_time": "2024-01-26T07:20:51.590712",
     "exception": false,
     "start_time": "2024-01-26T07:17:00.354104",
     "status": "completed"
    },
    "tags": []
   },
   "outputs": [
    {
     "name": "stdout",
     "output_type": "stream",
     "text": [
      "[200]\tvalid_0's auc: 0.887117\tvalid_0's binary_logloss: 0.327069\n",
      "[400]\tvalid_0's auc: 0.89128\tvalid_0's binary_logloss: 0.317355\n",
      "[600]\tvalid_0's auc: 0.892778\tvalid_0's binary_logloss: 0.314761\n",
      "[800]\tvalid_0's auc: 0.893573\tvalid_0's binary_logloss: 0.313483\n",
      "[1000]\tvalid_0's auc: 0.894013\tvalid_0's binary_logloss: 0.312713\n",
      "[1200]\tvalid_0's auc: 0.894282\tvalid_0's binary_logloss: 0.312287\n",
      "[1400]\tvalid_0's auc: 0.894544\tvalid_0's binary_logloss: 0.311898\n",
      "[1600]\tvalid_0's auc: 0.894695\tvalid_0's binary_logloss: 0.311636\n",
      "AUC for fold  0 :  0.8947418611886542\n",
      "----------------\n",
      "[200]\tvalid_0's auc: 0.885283\tvalid_0's binary_logloss: 0.32833\n",
      "[400]\tvalid_0's auc: 0.889921\tvalid_0's binary_logloss: 0.318785\n",
      "[600]\tvalid_0's auc: 0.891655\tvalid_0's binary_logloss: 0.316195\n",
      "[800]\tvalid_0's auc: 0.892601\tvalid_0's binary_logloss: 0.31484\n",
      "[1000]\tvalid_0's auc: 0.893105\tvalid_0's binary_logloss: 0.314173\n",
      "[1200]\tvalid_0's auc: 0.8934\tvalid_0's binary_logloss: 0.313803\n",
      "[1400]\tvalid_0's auc: 0.893571\tvalid_0's binary_logloss: 0.313591\n",
      "[1600]\tvalid_0's auc: 0.893708\tvalid_0's binary_logloss: 0.313367\n",
      "AUC for fold  1 :  0.8937239180339205\n",
      "----------------\n",
      "[200]\tvalid_0's auc: 0.885952\tvalid_0's binary_logloss: 0.327812\n",
      "[400]\tvalid_0's auc: 0.889729\tvalid_0's binary_logloss: 0.31895\n",
      "[600]\tvalid_0's auc: 0.891132\tvalid_0's binary_logloss: 0.316502\n",
      "[800]\tvalid_0's auc: 0.891844\tvalid_0's binary_logloss: 0.315381\n",
      "[1000]\tvalid_0's auc: 0.892195\tvalid_0's binary_logloss: 0.314825\n",
      "[1200]\tvalid_0's auc: 0.892355\tvalid_0's binary_logloss: 0.314556\n",
      "[1400]\tvalid_0's auc: 0.89249\tvalid_0's binary_logloss: 0.314314\n",
      "[1600]\tvalid_0's auc: 0.892594\tvalid_0's binary_logloss: 0.314114\n",
      "AUC for fold  2 :  0.8926462891184161\n",
      "----------------\n",
      "[200]\tvalid_0's auc: 0.889368\tvalid_0's binary_logloss: 0.32617\n",
      "[400]\tvalid_0's auc: 0.893203\tvalid_0's binary_logloss: 0.316923\n",
      "[600]\tvalid_0's auc: 0.894883\tvalid_0's binary_logloss: 0.314178\n",
      "[800]\tvalid_0's auc: 0.895706\tvalid_0's binary_logloss: 0.312883\n",
      "[1000]\tvalid_0's auc: 0.896235\tvalid_0's binary_logloss: 0.312101\n",
      "[1200]\tvalid_0's auc: 0.896518\tvalid_0's binary_logloss: 0.311656\n",
      "[1400]\tvalid_0's auc: 0.896721\tvalid_0's binary_logloss: 0.311308\n",
      "[1600]\tvalid_0's auc: 0.896771\tvalid_0's binary_logloss: 0.311221\n",
      "[1800]\tvalid_0's auc: 0.896858\tvalid_0's binary_logloss: 0.31112\n",
      "AUC for fold  3 :  0.8968775653347676\n",
      "----------------\n",
      "[200]\tvalid_0's auc: 0.887093\tvalid_0's binary_logloss: 0.32748\n",
      "[400]\tvalid_0's auc: 0.891321\tvalid_0's binary_logloss: 0.318112\n",
      "[600]\tvalid_0's auc: 0.893112\tvalid_0's binary_logloss: 0.315261\n",
      "[800]\tvalid_0's auc: 0.8938\tvalid_0's binary_logloss: 0.31418\n",
      "[1000]\tvalid_0's auc: 0.894228\tvalid_0's binary_logloss: 0.31354\n",
      "[1200]\tvalid_0's auc: 0.894489\tvalid_0's binary_logloss: 0.313151\n",
      "[1400]\tvalid_0's auc: 0.894652\tvalid_0's binary_logloss: 0.312917\n",
      "[1600]\tvalid_0's auc: 0.894862\tvalid_0's binary_logloss: 0.312637\n",
      "[1800]\tvalid_0's auc: 0.894906\tvalid_0's binary_logloss: 0.312569\n",
      "AUC for fold  4 :  0.8949419556402253\n",
      "----------------\n",
      "[200]\tvalid_0's auc: 0.889757\tvalid_0's binary_logloss: 0.32454\n",
      "[400]\tvalid_0's auc: 0.893393\tvalid_0's binary_logloss: 0.315071\n",
      "[600]\tvalid_0's auc: 0.894802\tvalid_0's binary_logloss: 0.312486\n",
      "[800]\tvalid_0's auc: 0.895411\tvalid_0's binary_logloss: 0.311442\n",
      "[1000]\tvalid_0's auc: 0.895777\tvalid_0's binary_logloss: 0.3109\n",
      "[1200]\tvalid_0's auc: 0.896013\tvalid_0's binary_logloss: 0.310521\n",
      "AUC for fold  5 :  0.8960664287278033\n",
      "----------------\n",
      "[200]\tvalid_0's auc: 0.888547\tvalid_0's binary_logloss: 0.325558\n",
      "[400]\tvalid_0's auc: 0.893213\tvalid_0's binary_logloss: 0.315323\n",
      "[600]\tvalid_0's auc: 0.895064\tvalid_0's binary_logloss: 0.312304\n",
      "[800]\tvalid_0's auc: 0.896041\tvalid_0's binary_logloss: 0.310761\n",
      "[1000]\tvalid_0's auc: 0.896376\tvalid_0's binary_logloss: 0.310203\n",
      "[1200]\tvalid_0's auc: 0.89668\tvalid_0's binary_logloss: 0.30974\n",
      "[1400]\tvalid_0's auc: 0.896871\tvalid_0's binary_logloss: 0.309421\n",
      "[1600]\tvalid_0's auc: 0.896907\tvalid_0's binary_logloss: 0.30932\n",
      "AUC for fold  6 :  0.8969392425535563\n",
      "----------------\n"
     ]
    }
   ],
   "source": [
    "folds = StratifiedKFold(n_splits=num_folds,random_state=RAND_VAL,shuffle=True)\n",
    "test_preds = np.empty((num_folds, len(df_test)))\n",
    "auc_vals=[]\n",
    "\n",
    "for n_fold, (train_idx, valid_idx) in enumerate(folds.split(X, y)):\n",
    "    \n",
    "    X_train, y_train = X.iloc[train_idx], y.iloc[train_idx]\n",
    "    X_val, y_val = X.iloc[valid_idx], y.iloc[valid_idx]\n",
    "    \n",
    "    LGB=lgb.LGBMClassifier(**lgbParams)\n",
    "    LGB.fit(X_train, y_train,\n",
    "        eval_set=[(X_val, y_val)],\n",
    "        eval_metric='auc',\n",
    "        early_stopping_rounds=100,verbose=200)\n",
    "    \n",
    "    y_pred_val = LGB.predict_proba(X_val[feat_cols])[:,1]\n",
    "    auc_val = roc_auc_score(y_val, y_pred_val)\n",
    "    print(\"AUC for fold \",n_fold,\": \",auc_val)\n",
    "    auc_vals.append(auc_val)\n",
    "    \n",
    "    y_pred_test = LGB.predict_proba(df_test[feat_cols])[:,1]\n",
    "    test_preds[n_fold, :] = y_pred_test\n",
    "    print(\"----------------\")"
   ]
  },
  {
   "cell_type": "markdown",
   "id": "f98f3cab",
   "metadata": {
    "papermill": {
     "duration": 0.011424,
     "end_time": "2024-01-26T07:20:51.614561",
     "exception": false,
     "start_time": "2024-01-26T07:20:51.603137",
     "status": "completed"
    },
    "tags": []
   },
   "source": [
    "## Evaluation"
   ]
  },
  {
   "cell_type": "code",
   "execution_count": 15,
   "id": "dee7c7b6",
   "metadata": {
    "execution": {
     "iopub.execute_input": "2024-01-26T07:20:51.641142Z",
     "iopub.status.busy": "2024-01-26T07:20:51.640626Z",
     "iopub.status.idle": "2024-01-26T07:20:51.646393Z",
     "shell.execute_reply": "2024-01-26T07:20:51.645387Z"
    },
    "papermill": {
     "duration": 0.021931,
     "end_time": "2024-01-26T07:20:51.648447",
     "exception": false,
     "start_time": "2024-01-26T07:20:51.626516",
     "status": "completed"
    },
    "tags": []
   },
   "outputs": [
    {
     "data": {
      "text/plain": [
       "('Mean AUC: ', 0.895133894371049)"
      ]
     },
     "execution_count": 15,
     "metadata": {},
     "output_type": "execute_result"
    }
   ],
   "source": [
    "\"Mean AUC: \",np.mean(auc_vals)"
   ]
  },
  {
   "cell_type": "markdown",
   "id": "1c31a780",
   "metadata": {
    "papermill": {
     "duration": 0.011824,
     "end_time": "2024-01-26T07:20:51.672783",
     "exception": false,
     "start_time": "2024-01-26T07:20:51.660959",
     "status": "completed"
    },
    "tags": []
   },
   "source": [
    "## Prediction and Submission"
   ]
  },
  {
   "cell_type": "code",
   "execution_count": 16,
   "id": "8936bc91",
   "metadata": {
    "execution": {
     "iopub.execute_input": "2024-01-26T07:20:51.698039Z",
     "iopub.status.busy": "2024-01-26T07:20:51.697321Z",
     "iopub.status.idle": "2024-01-26T07:20:51.701723Z",
     "shell.execute_reply": "2024-01-26T07:20:51.701084Z"
    },
    "papermill": {
     "duration": 0.018865,
     "end_time": "2024-01-26T07:20:51.703292",
     "exception": false,
     "start_time": "2024-01-26T07:20:51.684427",
     "status": "completed"
    },
    "tags": []
   },
   "outputs": [],
   "source": [
    "y_pred = test_preds.mean(axis=0)"
   ]
  },
  {
   "cell_type": "markdown",
   "id": "e8161778",
   "metadata": {
    "papermill": {
     "duration": 0.01171,
     "end_time": "2024-01-26T07:20:51.727004",
     "exception": false,
     "start_time": "2024-01-26T07:20:51.715294",
     "status": "completed"
    },
    "tags": []
   },
   "source": [
    "## Override from Original Dataset.\n",
    "### Credit : @paddykb\n",
    "https://www.kaggle.com/competitions/playground-series-s4e1/discussion/469859"
   ]
  },
  {
   "cell_type": "markdown",
   "id": "db4d4a0c",
   "metadata": {
    "papermill": {
     "duration": 0.010984,
     "end_time": "2024-01-26T07:20:51.749618",
     "exception": false,
     "start_time": "2024-01-26T07:20:51.738634",
     "status": "completed"
    },
    "tags": []
   },
   "source": [
    "Added ~0.002 to LB score from data leakage.\n",
    "Best LB score without override for this notebook is 0.89099"
   ]
  },
  {
   "cell_type": "code",
   "execution_count": 17,
   "id": "6421e199",
   "metadata": {
    "execution": {
     "iopub.execute_input": "2024-01-26T07:20:51.774416Z",
     "iopub.status.busy": "2024-01-26T07:20:51.773758Z",
     "iopub.status.idle": "2024-01-26T07:20:51.881078Z",
     "shell.execute_reply": "2024-01-26T07:20:51.880462Z"
    },
    "papermill": {
     "duration": 0.121748,
     "end_time": "2024-01-26T07:20:51.882728",
     "exception": false,
     "start_time": "2024-01-26T07:20:51.760980",
     "status": "completed"
    },
    "tags": []
   },
   "outputs": [
    {
     "data": {
      "text/html": [
       "<div>\n",
       "<style scoped>\n",
       "    .dataframe tbody tr th:only-of-type {\n",
       "        vertical-align: middle;\n",
       "    }\n",
       "\n",
       "    .dataframe tbody tr th {\n",
       "        vertical-align: top;\n",
       "    }\n",
       "\n",
       "    .dataframe thead th {\n",
       "        text-align: right;\n",
       "    }\n",
       "</style>\n",
       "<table border=\"1\" class=\"dataframe\">\n",
       "  <thead>\n",
       "    <tr style=\"text-align: right;\">\n",
       "      <th></th>\n",
       "      <th>id</th>\n",
       "      <th>Exited</th>\n",
       "    </tr>\n",
       "  </thead>\n",
       "  <tbody>\n",
       "    <tr>\n",
       "      <th>0</th>\n",
       "      <td>165034</td>\n",
       "      <td>0.014419</td>\n",
       "    </tr>\n",
       "    <tr>\n",
       "      <th>1</th>\n",
       "      <td>165035</td>\n",
       "      <td>0.717834</td>\n",
       "    </tr>\n",
       "    <tr>\n",
       "      <th>2</th>\n",
       "      <td>165036</td>\n",
       "      <td>0.032950</td>\n",
       "    </tr>\n",
       "    <tr>\n",
       "      <th>3</th>\n",
       "      <td>165037</td>\n",
       "      <td>0.244962</td>\n",
       "    </tr>\n",
       "    <tr>\n",
       "      <th>4</th>\n",
       "      <td>165038</td>\n",
       "      <td>0.369782</td>\n",
       "    </tr>\n",
       "  </tbody>\n",
       "</table>\n",
       "</div>"
      ],
      "text/plain": [
       "       id    Exited\n",
       "0  165034  0.014419\n",
       "1  165035  0.717834\n",
       "2  165036  0.032950\n",
       "3  165037  0.244962\n",
       "4  165038  0.369782"
      ]
     },
     "execution_count": 17,
     "metadata": {},
     "output_type": "execute_result"
    }
   ],
   "source": [
    "df_orig=pd.read_csv(\"/kaggle/input/bank-customer-churn-prediction/Churn_Modelling.csv\")\n",
    "join_cols=list(df_orig.columns.drop(['RowNumber','Exited']))\n",
    "df_orig.rename(columns={'Exited':'Exited_Orig'},inplace=True)\n",
    "df_orig['Exited_Orig']=df_orig['Exited_Orig'].map({0:1,1:0})\n",
    "df_test_ov=df_test_ov.merge(df_orig,on=join_cols,how='left')[['id','Exited_Orig']].fillna(-1)\n",
    "####\n",
    "df_sub = df_test_ov[['id','Exited_Orig']]\n",
    "\n",
    "if USE_DATA_LEAK=='Y':\n",
    "    df_sub['Exited'] = np.where(df_sub.Exited_Orig==-1,y_pred,df_sub.Exited_Orig)\n",
    "else:\n",
    "    df_sub['Exited'] = y_pred\n",
    "    \n",
    "df_sub.drop('Exited_Orig',axis=1,inplace=True)\n",
    "df_sub.head()"
   ]
  },
  {
   "cell_type": "code",
   "execution_count": 18,
   "id": "71e2d0de",
   "metadata": {
    "execution": {
     "iopub.execute_input": "2024-01-26T07:20:51.909101Z",
     "iopub.status.busy": "2024-01-26T07:20:51.907984Z",
     "iopub.status.idle": "2024-01-26T07:20:52.112405Z",
     "shell.execute_reply": "2024-01-26T07:20:52.110933Z"
    },
    "papermill": {
     "duration": 0.220357,
     "end_time": "2024-01-26T07:20:52.115109",
     "exception": false,
     "start_time": "2024-01-26T07:20:51.894752",
     "status": "completed"
    },
    "tags": []
   },
   "outputs": [],
   "source": [
    "df_sub.to_csv(\"submission.csv\",index=False)"
   ]
  },
  {
   "cell_type": "code",
   "execution_count": 19,
   "id": "d0b4c7a5",
   "metadata": {
    "execution": {
     "iopub.execute_input": "2024-01-26T07:20:52.141855Z",
     "iopub.status.busy": "2024-01-26T07:20:52.141500Z",
     "iopub.status.idle": "2024-01-26T07:20:52.374709Z",
     "shell.execute_reply": "2024-01-26T07:20:52.373369Z"
    },
    "papermill": {
     "duration": 0.248845,
     "end_time": "2024-01-26T07:20:52.377037",
     "exception": false,
     "start_time": "2024-01-26T07:20:52.128192",
     "status": "completed"
    },
    "tags": []
   },
   "outputs": [
    {
     "data": {
      "image/png": "[encoded data removed]",
      "text/plain": [
       "<Figure size 1200x600 with 1 Axes>"
      ]
     },
     "metadata": {},
     "output_type": "display_data"
    }
   ],
   "source": [
    "df_sub.hist(column='Exited', bins=20, range=[0,1],figsize=(12,6))\n",
    "plt.show()"
   ]
  }
 ],
 "metadata": {
  "kaggle": {
   "accelerator": "none",
   "dataSources": [
    {
     "databundleVersionId": 7405009,
     "sourceId": 65711,
     "sourceType": "competition"
    },
    {
     "datasetId": 3191230,
     "sourceId": 5536933,
     "sourceType": "datasetVersion"
    }
   ],
   "dockerImageVersionId": 30635,
   "isGpuEnabled": false,
   "isInternetEnabled": false,
   "language": "python",
   "sourceType": "notebook"
  },
  "kernelspec": {
   "display_name": "Python 3",
   "language": "python",
   "name": "python3"
  },
  "language_info": {
   "codemirror_mode": {
    "name": "ipython",
    "version": 3
   },
   "file_extension": ".py",
   "mimetype": "text/x-python",
   "name": "python",
   "nbconvert_exporter": "python",
   "pygments_lexer": "ipython3",
   "version": "3.10.12"
  },
  "papermill": {
   "default_parameters": {},
   "duration": 320.384085,
   "end_time": "2024-01-26T07:20:53.110060",
   "environment_variables": {},
   "exception": null,
   "input_path": "__notebook__.ipynb",
   "output_path": "__notebook__.ipynb",
   "parameters": {},
   "start_time": "2024-01-26T07:15:32.725975",
   "version": "2.4.0"
  }
 },
 "nbformat": 4,
 "nbformat_minor": 5
}
